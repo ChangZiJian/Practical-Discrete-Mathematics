{
  "cells": [
    {
      "cell_type": "markdown",
      "metadata": {
        "id": "96glFAUmZY7Y"
      },
      "source": [
        "# Chapter 1 - Introduction: Key Concepts, Notation, Set Theory, Relations, and Functions\n",
        "\n",
        "This notebook contains code accompanying Chapter 1 Introduction: Key Concepts, Notation, Set Theory, Relations, and Functions in *Practical Discrete Mathematics* by Ryan T. White and Archana Tikayat Ray\n",
        "\n",
        "## Functions and Relations\n",
        "\n",
        "### The `sort()` function"
      ]
    },
    {
      "cell_type": "code",
      "execution_count": 2,
      "metadata": {
        "id": "AzSmSh-AZY7a",
        "outputId": "81dbd39a-1b9a-48c3-d9e9-e8c5f1b6f030",
        "colab": {
          "base_uri": "https://localhost:8080/"
        }
      },
      "outputs": [
        {
          "output_type": "stream",
          "name": "stdout",
          "text": [
            "[1, 2, 3, 4, 5, 8, 9, 10, 12, 12]\n",
            "['Brandon', 'Chang', 'Elise', 'Eugene', 'Gan', 'Kumar', 'Wyatt']\n"
          ]
        }
      ],
      "source": [
        "numbers = [3, 1, 4, 12, 8, 5, 2, 9, 10, 12]\n",
        "names = ['Wyatt', 'Brandon', 'Kumar', 'Eugene', 'Elise', 'Chang', 'Gan']\n",
        "\n",
        "# Apply the sort() function to the lists\n",
        "numbers.sort()\n",
        "names.sort()\n",
        "\n",
        "# Display the output\n",
        "print(numbers)\n",
        "print(names)"
      ]
    },
    {
      "cell_type": "markdown",
      "metadata": {
        "id": "nRCatq8CZY7d"
      },
      "source": [
        "### The `shuffle()` function"
      ]
    },
    {
      "cell_type": "code",
      "execution_count": 4,
      "metadata": {
        "id": "1ukZJgh-ZY7e",
        "outputId": "f9ffdf6a-4480-4559-c936-155953ebf80f",
        "colab": {
          "base_uri": "https://localhost:8080/"
        }
      },
      "outputs": [
        {
          "output_type": "stream",
          "name": "stdout",
          "text": [
            "[4, 3, 3, 9, 5, 12, 2, 9, 8, 8, 1, 7, 4]\n",
            "[7, 12, 8, 4, 1, 5, 4, 3, 9, 8, 2, 3, 9]\n",
            "[9, 8, 4, 7, 12, 1, 5, 2, 9, 4, 8, 3, 3]\n",
            "[4, 3, 8, 7, 2, 8, 1, 5, 12, 4, 9, 9, 3]\n",
            "[7, 3, 9, 12, 9, 5, 3, 8, 4, 1, 8, 4, 2]\n",
            "[5, 8, 4, 1, 12, 3, 9, 2, 4, 9, 7, 3, 8]\n",
            "[9, 1, 9, 3, 8, 12, 3, 7, 4, 5, 4, 8, 2]\n",
            "[1, 4, 4, 12, 2, 7, 3, 8, 8, 9, 3, 9, 5]\n",
            "[7, 2, 1, 5, 3, 8, 9, 9, 8, 3, 12, 4, 4]\n",
            "[9, 5, 3, 12, 1, 9, 8, 4, 2, 3, 7, 4, 8]\n"
          ]
        }
      ],
      "source": [
        "import random\n",
        "\n",
        "# Set a random seed so the code is reproducible\n",
        "random.seed(1)\n",
        "\n",
        "# Run the random.shuffle() function 5 times and display the outputs\n",
        "for i in range(0,10):\n",
        "    numbers = [3, 1, 4, 12, 8, 5, 2, 9, 4, 7, 8, 9, 3]\n",
        "    random.shuffle(numbers)\n",
        "    print(numbers)"
      ]
    },
    {
      "cell_type": "markdown",
      "source": [
        "# Q1 Sort the numbers in decending  order of the following code"
      ],
      "metadata": {
        "id": "jFsWa8dgehZo"
      }
    },
    {
      "cell_type": "code",
      "source": [
        "numbers = [3, 1, 4, 12, 8, 5, 2, 9, 10, 15]\n",
        "\n",
        "# Apply the sort() function to the lists\n",
        "numbers.sort(reverse=True)\n",
        "\n",
        "# Display the output\n",
        "print(numbers)\n"
      ],
      "metadata": {
        "id": "jlbulNmUfCVE",
        "outputId": "d75b7c10-ce52-48e4-8ec0-fc920fe8580d",
        "colab": {
          "base_uri": "https://localhost:8080/"
        }
      },
      "execution_count": 7,
      "outputs": [
        {
          "output_type": "stream",
          "name": "stdout",
          "text": [
            "[15, 12, 10, 9, 8, 5, 4, 3, 2, 1]\n"
          ]
        }
      ]
    },
    {
      "cell_type": "markdown",
      "source": [
        "#Q2 Write python code that count the number of character in our English full name."
      ],
      "metadata": {
        "id": "mUlfiIAafU4O"
      }
    },
    {
      "cell_type": "code",
      "source": [
        "# Input your full name as a string\n",
        "full_name = \"Chang Zi Jian\"  # Replace this with your full name\n",
        "\n",
        "# Remove spaces from the full name using the replace() method\n",
        "full_name_without_spaces = full_name.replace(\" \", \"\")\n",
        "\n",
        "# Use len() to count the number of characters (including spaces)\n",
        "character_count = len(full_name_without_spaces)\n",
        "\n",
        "# Print the result\n",
        "print(\"Your full name is:\", full_name)\n",
        "print(\"The number of characters in your full name is:\", character_count)\n"
      ],
      "metadata": {
        "id": "LXvOkXpufhfw",
        "outputId": "946cfde6-10ec-4a94-9d93-197d4b4624eb",
        "colab": {
          "base_uri": "https://localhost:8080/"
        }
      },
      "execution_count": 12,
      "outputs": [
        {
          "output_type": "stream",
          "name": "stdout",
          "text": [
            "Your full name is: Chang Zi Jian\n",
            "The number of characters in your full name is: 11\n"
          ]
        }
      ]
    }
  ],
  "metadata": {
    "kernelspec": {
      "display_name": "Python 3",
      "name": "python3"
    },
    "language_info": {
      "name": "python"
    },
    "colab": {
      "provenance": []
    }
  },
  "nbformat": 4,
  "nbformat_minor": 0
}