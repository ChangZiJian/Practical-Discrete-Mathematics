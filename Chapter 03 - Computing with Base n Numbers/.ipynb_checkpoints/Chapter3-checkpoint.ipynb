{
  "cells": [
    {
      "cell_type": "markdown",
      "metadata": {
        "id": "g8V5KrkBiepu"
      },
      "source": [
        "# Chapter 3 - Computing with Base-$n$ Numbers\n",
        "\n",
        "This notebook contains code accompanying Chapter 3 Computing with Base-$n$ Numbers in *Practical Discrete Mathematics* by Ryan T. White and Archana Tikayat Ray.\n",
        "\n",
        "## Converting between Bases\n",
        "\n",
        "Below, we can convert a user-input number in base-10 (decimal) to numbers in base-16 (hexadecimal) and base-2 (binary)."
      ]
    },
    {
      "cell_type": "code",
      "execution_count": null,
      "metadata": {
        "id": "FgPEw0SWiepz",
        "outputId": "8ec1f5cb-5bca-46ce-a86c-164ce081e318"
      },
      "outputs": [
        {
          "name": "stdin",
          "output_type": "stream",
          "text": [
            "Enter a number with base 10\n",
            " 123456\n"
          ]
        },
        {
          "name": "stdout",
          "output_type": "stream",
          "text": [
            "Hexadecimal form of 123456 is 1e240\n",
            "Binary form of 123456 is 11110001001000000\n"
          ]
        }
      ],
      "source": [
        "# TypeConversion from decimal with base 10 to hexadecimal form with base 16 to binary form with the base 2\n",
        "\n",
        "# Taking input from user - an integer with base 10\n",
        "number = int(input(\"Enter a number with base 10\\n\"))\n",
        "# Converting the decimal number input by user to Hexadecimal\n",
        "print(\"Hexadecimal form of \" + str(number) + \" is \" + hex(number).lstrip(\"0x\").rstrip(\"L\"))\n",
        "# Converting the decimal number input by user to Binary\n",
        "print(\"Binary form of \" + str(number) + \" is \" + bin(number).lstrip(\"0b\").rstrip(\"L\"))"
      ]
    },
    {
      "cell_type": "markdown",
      "metadata": {
        "id": "6RCZQroFiep3"
      },
      "source": [
        "## Binary Numbers and their Applications\n",
        "\n",
        "Below is an example showing how we can use Boolean algebra with a dataset of Netflix users."
      ]
    },
    {
      "cell_type": "code",
      "execution_count": 7,
      "metadata": {
        "id": "ku3x2lC1iep4",
        "outputId": "41797134-4af6-475c-b44b-35b55e0e3f45",
        "colab": {
          "base_uri": "https://localhost:8080/",
          "height": 876
        }
      },
      "outputs": [
        {
          "output_type": "stream",
          "name": "stdout",
          "text": [
            "Example for AND operator\n",
            "   CustomerID Country    State     City Zip Code\n",
            "0           1     USA  Georgia  Atlanta    30332\n",
            "1           2     USA  Georgia  Atlanta    30331\n"
          ]
        },
        {
          "output_type": "display_data",
          "data": {
            "text/plain": [
              "<Figure size 640x480 with 1 Axes>"
            ],
            "image/png": "[encoded data removed]"
          },
          "metadata": {}
        },
        {
          "output_type": "stream",
          "name": "stdout",
          "text": [
            "Example for OR operator\n",
            "   CustomerID Country    State       City Zip Code\n",
            "0           1     USA  Georgia    Atlanta    30332\n",
            "1           2     USA  Georgia    Atlanta    30331\n",
            "2           3     USA  Florida  Melbourne    30912\n",
            "3           4     USA  Florida      Tampa    30123\n",
            "9          10  Canada  Ontario    Toronto  M4B 1B3\n",
            "Example for NOT operator\n",
            "   CustomerID  Country        State        City Zip Code\n",
            "4           5    India    Karnataka  Bangalore    560001\n",
            "5           6    India  Maharashtra      Mumbai   578234\n",
            "6           7    India    Karnataka       Hubli   569823\n",
            "7           8   India   Maharashtra      Mumbai   578234\n",
            "8           9  Germany      Bavaria      Munich    80331\n",
            "9          10   Canada      Ontario     Toronto  M4B 1B3\n"
          ]
        }
      ],
      "source": [
        "# Import packages with the functions we need\n",
        "import pandas as pd\n",
        "import matplotlib.pyplot as plt\n",
        "\n",
        "# Import the file you are trying to work with\n",
        "customer_df = pd.read_csv(\"CustomerList.csv\")\n",
        "\n",
        "# Using AND operator\n",
        "print(\"Example for AND operator\")\n",
        "print(customer_df.loc[(customer_df['Country'] == 'USA') & (customer_df['State'] == 'Georgia')])\n",
        "\n",
        "\n",
        "#Plot a bar chart. Chart Title: number of user per state\n",
        "# Group the data by the 'State' column and count the number of users in each state\n",
        "state_counts = customer_df['State'].value_counts()\n",
        "\n",
        "# Create a bar chart\n",
        "state_counts.plot(kind='bar')\n",
        "\n",
        "# Add a title to the chart\n",
        "plt.title('Number of Users per State')\n",
        "\n",
        "# Add labels to the x and y axes\n",
        "plt.xlabel('State')\n",
        "plt.ylabel('Number of Users')\n",
        "\n",
        "# Display the chart\n",
        "plt.show()\n",
        "\n",
        "\n",
        "\n",
        "# Using OR operator\n",
        "print(\"Example for OR operator\")\n",
        "print(customer_df.loc[(customer_df['Country'] == 'USA') | (customer_df['State'] == 'Ontario')])\n",
        "\n",
        "# Using NOT operator\n",
        "print(\"Example for NOT operator\")\n",
        "print(customer_df.loc[(customer_df['Country'] != 'USA')])"
      ]
    },
    {
      "cell_type": "markdown",
      "metadata": {
        "id": "Gv4f0k5Ciep4"
      },
      "source": [
        "## Hexadecimal Numbers and Their Applications\n",
        "\n",
        "### Example: Defining locations in computer memory"
      ]
    },
    {
      "cell_type": "code",
      "execution_count": 2,
      "metadata": {
        "id": "iVFr9Cjziep5",
        "outputId": "ea1822cf-ab1a-4753-cd04-36ff63b40023",
        "colab": {
          "base_uri": "https://localhost:8080/"
        }
      },
      "outputs": [
        {
          "output_type": "stream",
          "name": "stdout",
          "text": [
            "The memory location of variable peanut_butter is:  136549086085520\n",
            "The memory location of variable sandwich is:  136549086085520\n",
            "We can see that the memory location of both the variables is the same because they were assigned the same value\n",
            "After setting the values of both variables equal to each other, we have: \n",
            "The value of variable sandwich is now set to:  7\n",
            "The value of variable peanut_butter is now set to:  7\n",
            "The value of  sandwich variable was changed to 10, let's see whether it affects the value of peanut_butter\n",
            "The value of variable peanut_butter:  7\n",
            "The value of peanut_butter did NOT change even though we changed the value of sandwich\n",
            "The memory location of variable peanut_butter is:  136549086085552\n"
          ]
        }
      ],
      "source": [
        "# Variable 1: peanut_butter\n",
        "peanut_butter = 6\n",
        "print(\"The memory location of variable peanut_butter is: \",id(peanut_butter))\n",
        "\n",
        "# Variable 2: sandwich\n",
        "sandwich = 6\n",
        "print(\"The memory location of variable sandwich is: \",id(sandwich))\n",
        "print(\"We can see that the memory location of both the variables is the same because they were assigned the same value\")\n",
        "\n",
        "# Setting value of sandwich variable to a new number\n",
        "sandwich = 7\n",
        "\n",
        "# Setting both the variables equal to each other:\n",
        "peanut_butter = sandwich\n",
        "print(\"After setting the values of both variables equal to each other, we have: \")\n",
        "print(\"The value of variable sandwich is now set to: \",sandwich)\n",
        "print(\"The value of variable peanut_butter is now set to: \",peanut_butter)\n",
        "print(\"The value of  sandwich variable was changed to 10, let's see whether it affects the value of peanut_butter\")\n",
        "\n",
        "# Setting value of sandwich variable to a new number\n",
        "sandwich = 10\n",
        "\n",
        "print(\"The value of variable peanut_butter: \" ,peanut_butter)\n",
        "print(\"The value of peanut_butter did NOT change even though we changed the value of sandwich\")\n",
        "print(\"The memory location of variable peanut_butter is: \",id(peanut_butter))"
      ]
    },
    {
      "cell_type": "markdown",
      "metadata": {
        "id": "Wt3RpyHjiep6"
      },
      "source": [
        "### Example: Media Access Control (MAC) Addresses\n",
        "\n",
        "Note the MAC address generated by the code below will vary for different users, but they will be stored in a hexadecimal form."
      ]
    },
    {
      "cell_type": "code",
      "execution_count": 3,
      "metadata": {
        "id": "nx6aBKRiiep6",
        "outputId": "5b8d00fa-5055-4292-894a-da441e2c4117",
        "colab": {
          "base_uri": "https://localhost:8080/"
        }
      },
      "outputs": [
        {
          "output_type": "stream",
          "name": "stdout",
          "text": [
            "0x242ac1c000c\n"
          ]
        }
      ],
      "source": [
        "import uuid\n",
        "\n",
        "# address using uuid and getnode() function making use of hexadecimal number system\n",
        "print (hex(uuid.getnode()))"
      ]
    }
  ],
  "metadata": {
    "kernelspec": {
      "display_name": "Python 3",
      "name": "python3"
    },
    "language_info": {
      "name": "python"
    },
    "colab": {
      "provenance": []
    }
  },
  "nbformat": 4,
  "nbformat_minor": 0
}